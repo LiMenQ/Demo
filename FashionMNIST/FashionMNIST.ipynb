{
 "cells": [
  {
   "cell_type": "code",
   "execution_count": 1,
   "id": "9cbd1fdd",
   "metadata": {},
   "outputs": [],
   "source": [
    "# 导入库\n",
    "import torch\n",
    "import torch.nn as nn\n",
    "from torch import optim\n",
    "from torch.nn import functional as F\n",
    "from torch.utils.data import DataLoader\n",
    "import torchvision\n",
    "import torchvision.transforms as transforms"
   ]
  },
  {
   "cell_type": "code",
   "execution_count": 30,
   "id": "e5ab9ef4",
   "metadata": {},
   "outputs": [],
   "source": [
    "# 确定数据 确定超参数\n",
    "lr = 0.15 # 学习率\n",
    "gamma = 0 # 动量\n",
    "epochs = 10 # 全部数据学习次数\n",
    "bs = 128   # 小批量梯度数据个数"
   ]
  },
  {
   "cell_type": "code",
   "execution_count": 3,
   "id": "04c3bf01",
   "metadata": {},
   "outputs": [],
   "source": [
    "# 导入数据\n",
    "mnist = torchvision.datasets.FashionMNIST(root=\"./data/\"\n",
    "                                          , download=False\n",
    "                                          , train=True\n",
    "                                          , transform=transforms.ToTensor()\n",
    "                                         )"
   ]
  },
  {
   "cell_type": "code",
   "execution_count": 4,
   "id": "09140da2",
   "metadata": {},
   "outputs": [
    {
     "data": {
      "text/plain": [
       "Dataset FashionMNIST\n",
       "    Number of datapoints: 60000\n",
       "    Root location: ./data/\n",
       "    Split: Train\n",
       "    StandardTransform\n",
       "Transform: ToTensor()"
      ]
     },
     "execution_count": 4,
     "metadata": {},
     "output_type": "execute_result"
    }
   ],
   "source": [
    "mnist"
   ]
  },
  {
   "cell_type": "code",
   "execution_count": 5,
   "id": "663e2581",
   "metadata": {},
   "outputs": [],
   "source": [
    "# 小批量划分\n",
    "batchdata = DataLoader(mnist, batch_size=bs, shuffle=True)"
   ]
  },
  {
   "cell_type": "code",
   "execution_count": 6,
   "id": "53f04e10",
   "metadata": {},
   "outputs": [
    {
     "name": "stdout",
     "output_type": "stream",
     "text": [
      "torch.Size([128, 1, 28, 28])\n",
      "torch.Size([128])\n"
     ]
    }
   ],
   "source": [
    "# 查看结构\n",
    "for x, y in batchdata:\n",
    "    print(x.shape)\n",
    "    print(y.shape)\n",
    "    break"
   ]
  },
  {
   "cell_type": "code",
   "execution_count": 9,
   "id": "c912f45c",
   "metadata": {
    "scrolled": true
   },
   "outputs": [
    {
     "data": {
      "text/plain": [
       "784"
      ]
     },
     "execution_count": 9,
     "metadata": {},
     "output_type": "execute_result"
    }
   ],
   "source": [
    "# 对于torch.Size([128, 1, 28, 28])四维 通常将后面的元素乘积作为神经元的输入\n",
    "input_ = mnist.data[0].numel()\n",
    "input_"
   ]
  },
  {
   "cell_type": "code",
   "execution_count": 10,
   "id": "9e62a09b",
   "metadata": {},
   "outputs": [
    {
     "data": {
      "text/plain": [
       "10"
      ]
     },
     "execution_count": 10,
     "metadata": {},
     "output_type": "execute_result"
    }
   ],
   "source": [
    "# 标签的长度\n",
    "output_ = len(mnist.targets.unique())\n",
    "output_"
   ]
  },
  {
   "cell_type": "code",
   "execution_count": 12,
   "id": "a23e2ce0",
   "metadata": {},
   "outputs": [],
   "source": [
    "# 定义神经网络\n",
    "class Model(nn.Module):\n",
    "    def __init__(self, in_features=10, out_features=10):\n",
    "        super().__init__()\n",
    "        self.linear1 = nn.Linear(in_features, 128, bias=False)\n",
    "        self.output = nn.Linear(128, out_features, bias=False)\n",
    "        \n",
    "    def forward(self, x):\n",
    "        x = x.view(-1, 28 * 28) # -1占位符\n",
    "        sigma1 = torch.relu(self.linear1(x))\n",
    "        sigma2 = F.log_softmax(self.output(sigma1), dim=1)\n",
    "        return sigma2"
   ]
  },
  {
   "cell_type": "code",
   "execution_count": 27,
   "id": "7864ed8a",
   "metadata": {},
   "outputs": [],
   "source": [
    "# 定义训练函数 损失函数 优化算法 梯度下降\n",
    "def fit(net, batchdata, lr=0.1, epochs=10, gamma=0):\n",
    "    criterion = nn.NLLLoss()\n",
    "    opt = optim.SGD(net.parameters(), lr=lr, momentum=gamma)\n",
    "    count = 0\n",
    "    correct = 0\n",
    "    for epoch in range(epochs):\n",
    "        for batch_idx, (x, y) in enumerate(batchdata):\n",
    "            y = y.view(x.shape[0])\n",
    "            sigma = net.forward(x) # 正向传播\n",
    "            loss = criterion(sigma, y)\n",
    "            loss.backward() # 反向传播\n",
    "            opt.step() # 梯度下降\n",
    "            opt.zero_grad() # 梯度清零\n",
    "            \n",
    "            yhat = torch.max(sigma, 1)[1] # 取出索引\n",
    "            correct += torch.sum(yhat == y)\n",
    "            count += x.shape[0]\n",
    "            if (batch_idx + 1) % 125 == 0: # 隔一段时间打印一次\n",
    "                print(\"Epoch{}:[{}/{}({:.0f}%)],Loss:{:.6f},Accuracy:{:.3f}\".format(\n",
    "                                                      epoch+1, \n",
    "                                                      count, \n",
    "                                                      epochs * len(batchdata.dataset), \n",
    "                                                      100 * count / (epochs * len(batchdata.dataset)),\n",
    "                                                      loss.data.item(),\n",
    "                                                      float (100 * correct / count)))"
   ]
  },
  {
   "cell_type": "code",
   "execution_count": 31,
   "id": "231576b2",
   "metadata": {
    "collapsed": true
   },
   "outputs": [
    {
     "name": "stdout",
     "output_type": "stream",
     "text": [
      "Epoch1:[16000/600000(3%)],Loss:0.680651,Accuracy:65.194\n",
      "Epoch1:[32000/600000(5%)],Loss:0.516218,Accuracy:70.863\n",
      "Epoch1:[48000/600000(8%)],Loss:0.620159,Accuracy:73.852\n",
      "Epoch2:[76000/600000(13%)],Loss:0.473786,Accuracy:76.818\n",
      "Epoch2:[92000/600000(15%)],Loss:0.530770,Accuracy:77.935\n",
      "Epoch2:[108000/600000(18%)],Loss:0.387089,Accuracy:78.838\n",
      "Epoch3:[136000/600000(23%)],Loss:0.378450,Accuracy:79.973\n",
      "Epoch3:[152000/600000(25%)],Loss:0.363687,Accuracy:80.459\n",
      "Epoch3:[168000/600000(28%)],Loss:0.354691,Accuracy:80.961\n",
      "Epoch4:[196000/600000(33%)],Loss:0.295524,Accuracy:81.631\n",
      "Epoch4:[212000/600000(35%)],Loss:0.370026,Accuracy:81.938\n",
      "Epoch4:[228000/600000(38%)],Loss:0.344174,Accuracy:82.227\n",
      "Epoch5:[256000/600000(43%)],Loss:0.284875,Accuracy:82.674\n",
      "Epoch5:[272000/600000(45%)],Loss:0.429177,Accuracy:82.917\n",
      "Epoch5:[288000/600000(48%)],Loss:0.363779,Accuracy:83.125\n",
      "Epoch6:[316000/600000(53%)],Loss:0.406582,Accuracy:83.497\n",
      "Epoch6:[332000/600000(55%)],Loss:0.410082,Accuracy:83.687\n",
      "Epoch6:[348000/600000(58%)],Loss:0.459564,Accuracy:83.847\n",
      "Epoch7:[376000/600000(63%)],Loss:0.381828,Accuracy:84.117\n",
      "Epoch7:[392000/600000(65%)],Loss:0.304020,Accuracy:84.276\n",
      "Epoch7:[408000/600000(68%)],Loss:0.257836,Accuracy:84.406\n",
      "Epoch8:[436000/600000(73%)],Loss:0.352509,Accuracy:84.651\n",
      "Epoch8:[452000/600000(75%)],Loss:0.242634,Accuracy:84.764\n",
      "Epoch8:[468000/600000(78%)],Loss:0.305570,Accuracy:84.875\n",
      "Epoch9:[496000/600000(83%)],Loss:0.453068,Accuracy:85.068\n",
      "Epoch9:[512000/600000(85%)],Loss:0.528356,Accuracy:85.171\n",
      "Epoch9:[528000/600000(88%)],Loss:0.316446,Accuracy:85.260\n",
      "Epoch10:[556000/600000(93%)],Loss:0.350925,Accuracy:85.432\n",
      "Epoch10:[572000/600000(95%)],Loss:0.288775,Accuracy:85.521\n",
      "Epoch10:[588000/600000(98%)],Loss:0.185451,Accuracy:85.616\n"
     ]
    }
   ],
   "source": [
    "# 训练\n",
    "torch.manual_seed(428)\n",
    "net = Model(in_features=input_, out_features=output_)\n",
    "fit(net, batchdata, lr=lr, epochs=epochs, gamma=gamma)"
   ]
  }
 ],
 "metadata": {
  "kernelspec": {
   "display_name": "Python 3 (ipykernel)",
   "language": "python",
   "name": "python3"
  },
  "language_info": {
   "codemirror_mode": {
    "name": "ipython",
    "version": 3
   },
   "file_extension": ".py",
   "mimetype": "text/x-python",
   "name": "python",
   "nbconvert_exporter": "python",
   "pygments_lexer": "ipython3",
   "version": "3.9.13"
  }
 },
 "nbformat": 4,
 "nbformat_minor": 5
}
