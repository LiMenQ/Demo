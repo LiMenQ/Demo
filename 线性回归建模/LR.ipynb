{
 "cells": [
  {
   "cell_type": "code",
   "execution_count": 1,
   "id": "5fe55e44",
   "metadata": {},
   "outputs": [],
   "source": [
    "import random\n",
    "import matplotlib as mpl\n",
    "import matplotlib.pyplot as plt\n",
    "import numpy as np\n",
    "import torch\n",
    "import torch.nn as nn\n",
    "import torch.optim as optim\n",
    "import torch.nn.functional as F\n",
    "from torch.utils.data import Dataset, DataLoader, TensorDataset\n",
    "from torch.utils.tensorboard import SummaryWriter\n",
    "import os\n",
    "os.environ['KMP_DUPLICATE_LIB_OK']='True' # 防止使用plot挂掉"
   ]
  },
  {
   "cell_type": "code",
   "execution_count": 17,
   "id": "60e71ce3",
   "metadata": {},
   "outputs": [],
   "source": [
    "# 回归数据集创建\n",
    "def tensorGenReg(num_example=1000, w=[2, -1, 1], bias=True, delta=0.01, deg=1):\n",
    "    if bias == True:\n",
    "        num_input = len(w) - 1\n",
    "        features_true = torch.randn(num_example, num_input)\n",
    "        w_true = torch.tensor(w[:-1]).reshape(-1, 1).float()\n",
    "        b_true = torch.tensor(w[-1]).float()\n",
    "        if num_input == 1:\n",
    "            labels_true = torch.pow(features_true, deg) * w_true + b_true\n",
    "        else:\n",
    "            labels_true = torch.mm(torch.pow(features_true, deg), w_true) + b_true\n",
    "        features = torch.cat((features_true, torch.ones(len(features_true), 1)), 1)\n",
    "        labels = labels_true + torch.randn(size=labels_true.shape) * delta\n",
    "    else:\n",
    "        num_input = len(w)\n",
    "        features_truee = torch.randn(num_example, num_input)\n",
    "        w_true = torch.tensor(w).reshape(-1, 1).float()\n",
    "        if num_input == 1:\n",
    "            labels_true = torch.pow(features_true, deg) * w_true\n",
    "        else:\n",
    "            labels_true = torch.mm(torch.pow(features_true, deg), w_true)\n",
    "        labels = labels_true + torch.randn(size=labels_true.shape) * delta\n",
    "    return features, labels"
   ]
  },
  {
   "cell_type": "code",
   "execution_count": 18,
   "id": "af792d5a",
   "metadata": {},
   "outputs": [],
   "source": [
    "# 生成数据集\n",
    "torch.manual_seed(428)\n",
    "features, labels = tensorGenReg()"
   ]
  },
  {
   "cell_type": "code",
   "execution_count": 4,
   "id": "a02ecaf6",
   "metadata": {},
   "outputs": [],
   "source": [
    "# 1.模型选择\n",
    "def linreg(X, w):\n",
    "    return torch.mm(X, w)"
   ]
  },
  {
   "cell_type": "code",
   "execution_count": 5,
   "id": "cc147246",
   "metadata": {},
   "outputs": [],
   "source": [
    "# 2.确定目标函数\n",
    "def squared_loss(yhat, y):\n",
    "    num_ = y.numel()\n",
    "    sse = torch.sum((yhat.reshape(-1, 1) - y.reshape(-1, 1)) ** 2)\n",
    "    return sse / num_"
   ]
  },
  {
   "cell_type": "code",
   "execution_count": 6,
   "id": "9313e502",
   "metadata": {},
   "outputs": [],
   "source": [
    "# 3.定义优化算法\n",
    "def sgd(params, lr):\n",
    "    params.data -= lr * params.grad\n",
    "    params.grad.zero_()"
   ]
  },
  {
   "cell_type": "code",
   "execution_count": 7,
   "id": "d1dff4db",
   "metadata": {},
   "outputs": [],
   "source": [
    "# 创建小批量切分函数\n",
    "def data_iter(batch_size, features, labels):\n",
    "    num_examples = len(features)\n",
    "    indices = list(range(num_examples))\n",
    "    random.shuffle(indices) # 打乱数据集索引\n",
    "    l = []\n",
    "    for i in range(0, num_examples, batch_size):\n",
    "        j = torch.tensor(indices[i: min(i + batch_size, num_examples)])\n",
    "        l.append([torch.index_select(features, 0, j), torch.index_select(labels, 0, j)])\n",
    "    return l"
   ]
  },
  {
   "cell_type": "code",
   "execution_count": 22,
   "id": "b7eb3a88",
   "metadata": {},
   "outputs": [],
   "source": [
    "writer = SummaryWriter(log_dir='reg_loss')"
   ]
  },
  {
   "cell_type": "code",
   "execution_count": 24,
   "id": "1a7a1a04",
   "metadata": {},
   "outputs": [
    {
     "name": "stdout",
     "output_type": "stream",
     "text": [
      "epoch 1, loss 0.000125\n",
      "epoch 2, loss 0.000096\n",
      "epoch 3, loss 0.000096\n"
     ]
    }
   ],
   "source": [
    "# 4.模型训练\n",
    "torch.manual_seed(428)\n",
    "\n",
    "batch_size = 10 # 小批量数据个数\n",
    "lr = 0.03       # 学习率\n",
    "num_epochs = 3  # 训练次数\n",
    "w = torch.zeros(3, 1, requires_grad = True) # 初始权重\n",
    "\n",
    "net = linreg\n",
    "loss = squared_loss\n",
    "\n",
    "for epoch in range(num_epochs):\n",
    "    for X, y in data_iter(batch_size, features, labels):\n",
    "        l = loss(net(X, w), y)\n",
    "        l.backward() # 反向传播\n",
    "        sgd(w, lr)\n",
    "    train_l = loss(net(features, w), labels)\n",
    "    writer.add_scalar('mul', train_l, epoch)\n",
    "    print('epoch %d, loss %f' % (epoch + 1, train_l))"
   ]
  },
  {
   "cell_type": "code",
   "execution_count": 21,
   "id": "9a4e5c22",
   "metadata": {},
   "outputs": [
    {
     "data": {
      "text/plain": [
       "tensor([[ 2.0003],\n",
       "        [-1.0007],\n",
       "        [ 0.9992]], requires_grad=True)"
      ]
     },
     "execution_count": 21,
     "metadata": {},
     "output_type": "execute_result"
    }
   ],
   "source": [
    "w"
   ]
  },
  {
   "cell_type": "code",
   "execution_count": 27,
   "id": "1466df41",
   "metadata": {},
   "outputs": [],
   "source": [
    "# 线性回归快速实现\n",
    "batch_size = 10\n",
    "lr = 0.03\n",
    "num_epochs = 3"
   ]
  },
  {
   "cell_type": "code",
   "execution_count": 29,
   "id": "de36b9ab",
   "metadata": {},
   "outputs": [],
   "source": [
    "# 生成数据集\n",
    "torch.manual_seed(428)\n",
    "features, labels = tensorGenReg()\n",
    "features = features[:, :-1] #  去除最后一列 因为nn会创建\n",
    "data = TensorDataset(features, labels) # 数据封装\n",
    "batchData = DataLoader(data, batch_size=batch_size, shuffle=True) # 数据加载"
   ]
  },
  {
   "cell_type": "code",
   "execution_count": 30,
   "id": "bcc22131",
   "metadata": {},
   "outputs": [
    {
     "data": {
      "text/plain": [
       "tensor([[ 1.0109,  0.3103],\n",
       "        [ 1.3131,  0.1687],\n",
       "        [-0.4335,  0.4715],\n",
       "        ...,\n",
       "        [ 1.4493,  1.4995],\n",
       "        [-1.6545, -0.2729],\n",
       "        [ 0.2654, -0.5429]])"
      ]
     },
     "execution_count": 30,
     "metadata": {},
     "output_type": "execute_result"
    }
   ],
   "source": [
    "features"
   ]
  },
  {
   "cell_type": "code",
   "execution_count": 39,
   "id": "5e33d708",
   "metadata": {},
   "outputs": [],
   "source": [
    "class Model(nn.Module):\n",
    "    def __init__(self, in_features=2, out_feature=1):\n",
    "        super(Model, self).__init__()\n",
    "        self.linear = nn.Linear(in_features, out_feature)\n",
    "        \n",
    "    def forward(self, x):\n",
    "        out = self.linear(x)\n",
    "        return out"
   ]
  },
  {
   "cell_type": "code",
   "execution_count": 40,
   "id": "22e29b64",
   "metadata": {},
   "outputs": [],
   "source": [
    "# 1.模型选择\n",
    "net = Model()\n",
    "# 2.确定目标函数\n",
    "criterion = nn.MSELoss()\n",
    "# 3.确定优化方法\n",
    "optimizer = optim.SGD(net.parameters(), lr=lr)"
   ]
  },
  {
   "cell_type": "code",
   "execution_count": 41,
   "id": "4869106c",
   "metadata": {},
   "outputs": [
    {
     "name": "stdout",
     "output_type": "stream",
     "text": [
      "epoch 1, loss 0.000100\n",
      "epoch 2, loss 0.000096\n",
      "epoch 3, loss 0.000066\n"
     ]
    }
   ],
   "source": [
    "# 4.模型训练\n",
    "torch.manual_seed(428)\n",
    "for epoch in range(num_epochs):\n",
    "    for X, y in batchData:\n",
    "        yhat = net.forward(X)\n",
    "        loss = criterion(yhat, y)\n",
    "        optimizer.zero_grad()\n",
    "        loss.backward()\n",
    "        optimizer.step()\n",
    "    writer.add_scalar('mul', train_l, epoch)\n",
    "    print('epoch %d, loss %f' % (epoch + 1, loss))"
   ]
  },
  {
   "cell_type": "code",
   "execution_count": 42,
   "id": "77afee10",
   "metadata": {},
   "outputs": [
    {
     "data": {
      "text/plain": [
       "[Parameter containing:\n",
       " tensor([[ 1.9997, -1.0002]], requires_grad=True),\n",
       " Parameter containing:\n",
       " tensor([0.9998], requires_grad=True)]"
      ]
     },
     "execution_count": 42,
     "metadata": {},
     "output_type": "execute_result"
    }
   ],
   "source": [
    "list(net.parameters())"
   ]
  },
  {
   "cell_type": "code",
   "execution_count": 43,
   "id": "1fb76f81",
   "metadata": {},
   "outputs": [
    {
     "data": {
      "text/plain": [
       "tensor(9.5491e-05, grad_fn=<MseLossBackward>)"
      ]
     },
     "execution_count": 43,
     "metadata": {},
     "output_type": "execute_result"
    }
   ],
   "source": [
    "criterion(net(features), labels)"
   ]
  }
 ],
 "metadata": {
  "kernelspec": {
   "display_name": "Python 3 (ipykernel)",
   "language": "python",
   "name": "python3"
  },
  "language_info": {
   "codemirror_mode": {
    "name": "ipython",
    "version": 3
   },
   "file_extension": ".py",
   "mimetype": "text/x-python",
   "name": "python",
   "nbconvert_exporter": "python",
   "pygments_lexer": "ipython3",
   "version": "3.9.13"
  }
 },
 "nbformat": 4,
 "nbformat_minor": 5
}
